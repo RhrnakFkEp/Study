{
 "cells": [
  {
   "cell_type": "markdown",
   "id": "6ae80cfa",
   "metadata": {},
   "source": [
    "2021-06-14<br>\n",
    "이것이 취업을 위한 코딩테스트다 with 파이썬\n",
    "<hr>"
   ]
  },
  {
   "cell_type": "markdown",
   "id": "f516312f",
   "metadata": {},
   "source": [
    "# 그리디 알고리즘\n",
    "그리디 알고리즘(탐욕법)<br>\n",
    "현재 상황에서 지금 당장 좋은 것만 고르는 방법<br><br>\n",
    "\n",
    "그리디 해법은 정당성 분석이 중요<br>\n",
    "단순히 가장 좋아 보이는 것을 반복적으로 선택해도 최적의 해를 구할 수 있는지 검토해야함<br><br>\n",
    "\n",
    "일반적인 상황에서 그리디 알고리즘은 최적의 해를 보장할 수 없을 때가 많음<br>\n",
    "코딩 테스트에서 대부분의 그리디 문제는 탐욕법으로 얻은 해가 최적의 해가 되는 상황에서 이를 추론할 수 있어야 풀리도록 출제됨\n",
    "<hr>"
   ]
  },
  {
   "cell_type": "markdown",
   "id": "ca7df04d",
   "metadata": {},
   "source": [
    "## 거스름 돈 문제\n",
    "### 설명\n",
    "카운터에 거스름돈으로 사용할 500원, 100원, 50원, 10원짜리 동전이 무한히 존재한다고 가정한다. 손님에게 거슬러 주어야 할 돈이 N원일 때, 거슬러 주어야 할 동전의 최소개수를 구하시오. 단, 거슬러 주어야 할 돈 N은 항상 10의 배수이다.\n",
    "<br><br>\n",
    "\n",
    "\n",
    "### 아이디어\n",
    "최적의 해를 빠르게 구하기 위해서는 가장 큰 화폐 단위부터 돈을 거슬러 주면됨<br>\n",
    "N원을 거슬러 줘야 할 때, 가장 먼저 500원으로 거슬러 줄 수 있을 만큼 거슬러주고, 이 후 100원, 50원, 10원짜리 동전을 차례대로 거슬러 줄 수 있는 만큼 거슬러 주면 됨\n",
    "\n",
    "N = 1260원 일 때?<br>\n",
    "500 : 2, 100 : 2, 50 : 1, 10 : 1\n",
    "<br><br>\n",
    "\n",
    "\n",
    "###  정당성 분석\n",
    "가장 큰 화폐 단위부터 돈을 거슬러 주는 것이 최적의 해를 보장하는 이유?<br>\n",
    "가지고 있는 동전 중에서 큰 단위가 항상 작은 단위의 배수이므로, 작은 단위의 동전들을 종합해 다른 해가 나올 수 없기 때문<br><br>\n",
    "\n",
    "800원을 거슬러 주어야 하는데 단위가 500원, 400원, 100원일 때?<br>\n",
    "그리드 알고리즘과 같이 500 : 1, 100 : 3 으로 하면 최소개수가 4개이지만,<br>\n",
    "400 : 2와 같은 방식이 최소개수가 2개로 더 적다<br>\n",
    "\n",
    "큰 단위가 작은 단위의 배수가 아니라면 최적의 해를 보장할 수 없는 것\n",
    "<br><br>"
   ]
  },
  {
   "cell_type": "markdown",
   "id": "b4b384d7",
   "metadata": {},
   "source": [
    "### 답안 예시"
   ]
  },
  {
   "cell_type": "code",
   "execution_count": 4,
   "id": "a8c1fb2d",
   "metadata": {},
   "outputs": [
    {
     "name": "stdout",
     "output_type": "stream",
     "text": [
      "6\n"
     ]
    }
   ],
   "source": [
    "n = 1260\n",
    "count = 0\n",
    "\n",
    "array = [500, 100, 50, 10]\n",
    "\n",
    "for coin in array:\n",
    "    count += n // coin\n",
    "    # coin 으로 나눈 몫을 count에 더해 넣음\n",
    "    # 거슬러 줄 수 있는 동전의 개수 세기\n",
    "    \n",
    "    n %= coin\n",
    "    # 코인으로 나눈 나머지(남은 거스름돈)를 n에 넣음\n",
    "    \n",
    "print(count)"
   ]
  },
  {
   "cell_type": "markdown",
   "id": "3648d218",
   "metadata": {},
   "source": [
    "###  시간 복잡도 분석\n",
    "화폐의 종류가 K라고 할 때, 소스 코드의 시간 복잡도는 O(K)<br>\n",
    "시간 복잡도는 거슬러 주어야 하는 금액과는 무관하며, 동전의 종류에만 영향을 받음"
   ]
  },
  {
   "cell_type": "markdown",
   "id": "7122aa61",
   "metadata": {},
   "source": [
    "### 답안예시(C++)\n",
    "```c++\n",
    "#include <bits/stdc++.h>\n",
    "// 표준 라이브러리를 불러오기 위한 헤더파일\n",
    "\n",
    "using namespace std;\n",
    "\n",
    "int n = 1260;\n",
    "int cnt;\n",
    "// 초기화 할 값을 지정하지 않으면 자동으로 0으로 초기화 해줌\n",
    "\n",
    "int coinTypes[4] = {500, 100, 50, 10};\n",
    "\n",
    "int mian(void){\n",
    "    for (int i = 0; i < 4; i++){\n",
    "        cnt += n / coinTypes[i];\n",
    "        n %= n / coinTypes[i];\n",
    "    }\n",
    "    count << cnt << '\\n';\n",
    "}\n",
    "\n",
    "```"
   ]
  },
  {
   "cell_type": "markdown",
   "id": "636f13cf",
   "metadata": {},
   "source": [
    "### 답안예시(Java)\n",
    "```Java\n",
    "public class Main{\n",
    "    public static void main(String[] args){\n",
    "        int n = 1260;\n",
    "        int cnt = 0;\n",
    "        int[] coinTypes = {500, 100, 50, 10};\n",
    "        \n",
    "        for(int i = 0; i < 4; i++){\n",
    "            cnt += n / coinTypes[i];\n",
    "            c %= n / coinTypes[i];\n",
    "        }\n",
    "        System.out.println(cnt);\n",
    "    }\n",
    "}\n",
    "```"
   ]
  },
  {
   "cell_type": "markdown",
   "id": "fc76c489",
   "metadata": {},
   "source": [
    "<hr>"
   ]
  },
  {
   "cell_type": "markdown",
   "id": "9630857e",
   "metadata": {},
   "source": [
    "## 1이 될 때까지\n",
    "### 설명 \n",
    "어떤 수 N이 될 때까지 다음의 두 과정 중 하나를 반복적으로 선택하여 수행하려고 함. 단, 두 번째 연산은 N이 K로 나누어 떨어질 때만 선택할 수 있음<br>\n",
    "1. N에서 1을 뺌\n",
    "2. N을 K로 나눔\n",
    "<br>\n",
    "\n",
    "예를 들어 N이 17, K가 4라고 가정<br>\n",
    "이 때 1번의 과정을 한 번 수행하면 N이 16이 됨<br>\n",
    "이 후 2번의 과정을 두 번 수행하면 N은 1이 됨<br>\n",
    "이 경우에는 과정을 실행한 횟수가 3이 되며, 이는 N을 1로 만드는 최소 횟수임<br>\n",
    "\n",
    "N과 K가 주어질 때, N이 1이 될 때까지 1번 혹은 2번의 과정을 수행해야하는 최소 횟수를 구하는 프로그램을 작성\n",
    "<br><br>\n",
    "\n",
    "\n",
    "### 조건\n",
    "난이도 : 하 | 풀이시간 : 15분 |시간 제한 : 2초 | 메모리 제한 : 128MB<br>\n",
    "\n",
    "입력 조건 : <br>\n",
    "첫째 줄에서 N(1 <= N <= 100,000)과 K(2 <= K <= 100,000)가 공백을 기준으로 하여 각각 자연수로 주어짐<br>\n",
    "e.g. 25 5<br>\n",
    "\n",
    "출력 조건 : <br>\n",
    "첫째 줄에 N이 1이 될 때까지 1번 혹은 2번의 과정을 수행해야하는 횟수의 최솟값 출력<br>\n",
    "e.g. 2\n",
    "<br><br>\n",
    "\n",
    "\n",
    "\n",
    "### 아이디어\n",
    "주어진 N에 대하여 최대한 많이 나누기(2번 과정)를 수행하면 됨<br>\n",
    "N의 값을 2 이상의 수로 나누는 작업이 1을 빼는 작업보다 작업 횟수를 훨씬 많이 줄일 수 있음\n",
    "<br><br>\n",
    "\n",
    "\n",
    "### 정당성 분석\n",
    "가능한 최대한 많이 나누는 작업이 최적의 해 보장?<br>\n",
    "N이 아무리 큰 수여도 K로 계속 나누면 기하급수적으로 빠르게 줄일 수 있음<br>\n",
    "K가 2이상이기만 하면, 빼는것보다 나누는 것이 항상 빠르게 N을 줄일 수 있는 방법이며, N은 항상 1에 도달하게 됨(최적의 해 성립)"
   ]
  },
  {
   "cell_type": "markdown",
   "id": "260a6970",
   "metadata": {},
   "source": [
    "### 답안 예시"
   ]
  },
  {
   "cell_type": "code",
   "execution_count": 12,
   "id": "3263cf7f",
   "metadata": {},
   "outputs": [
    {
     "name": "stdout",
     "output_type": "stream",
     "text": [
      "4 5\n",
      "7\n"
     ]
    }
   ],
   "source": [
    "n, k = map(int, input().split())\n",
    "\n",
    "result = 0\n",
    "\n",
    "while True:\n",
    "    target = (n // k) * k\n",
    "    # k로 나누어떨어지는 가장 가까운 수가 무엇인지 파악할 때 사용\n",
    "    result += (n - target)\n",
    "    # 연산횟수 \n",
    "    \n",
    "    # n이 K보다 작을 때 탈출\n",
    "    if n < k:\n",
    "        break\n",
    "    \n",
    "    # k로 나누기\n",
    "    result += 1\n",
    "    n //= k\n",
    "    \n",
    "# 남은 수에 대해 1씩 빼기\n",
    "result += (n-1)\n",
    "print(result)"
   ]
  },
  {
   "cell_type": "markdown",
   "id": "5c383d9f",
   "metadata": {},
   "source": [
    "### 시간 복잡도\n",
    "N이 K로 나눠지는 것이 바로바로 실행됨<br>\n",
    "반복 횟수에 따라 N이 빠르게 줄어들게 됨<br>\n",
    "log시간 복잡도가 나올 수 있는것임"
   ]
  },
  {
   "cell_type": "markdown",
   "id": "48b9fdf9",
   "metadata": {},
   "source": [
    "### 개인적인 의문점\n",
    "N이 K보다 반드시 크다고 명시되어있지 않음. 해당 코드는 N이 K보다 크다고 가정하고 작성했기 때문인지 N이 K보다 작을 때는 결과값으로 이상한 값이 출력됨. 이런 부분은 if문을 주어서 해결해야하지 않을까 싶음"
   ]
  },
  {
   "cell_type": "markdown",
   "id": "6f0fdde0",
   "metadata": {},
   "source": [
    "### 답안 예시(C++)\n",
    "```C++\n",
    "#include <bits/stdC++.h>\n",
    "\n",
    "using namespace std;\n",
    "\n",
    "int n, k;\n",
    "int result;\n",
    "\n",
    "int main(void){\n",
    "    cin >> n >> k;\n",
    "    // c in, n, k\n",
    "    // n과 k를 입력 하란뜻?\n",
    "    // 파이썬 input이나 C scanf랑 비슷한거겠지?\n",
    "    while(true){\n",
    "        int target = (n/k) * k;\n",
    "        result += (n - target);\n",
    "        n = target;\n",
    "        \n",
    "        if(n < k) break;\n",
    "        \n",
    "        result++;\n",
    "        n /= k;\n",
    "    }\n",
    "    result += (n-1);\n",
    "    cout << result << '\\n';\n",
    "    // c out, result, 줄바꿈\n",
    "    // result를 출력하고 줄바꿈하라는 뜻인듯\n",
    "}\n",
    "```"
   ]
  },
  {
   "cell_type": "markdown",
   "id": "dc8f6bc5",
   "metadata": {},
   "source": [
    " ### 답안 예시(Java)\n",
    " ```Java\n",
    "import java.util.*;\n",
    "\n",
    "public class Main{\n",
    "    public static void main(String[] args){\n",
    "        Scanner sc = new Scanner(System.in);\n",
    "        \n",
    "        int n = sc.nextInt();\n",
    "        int k = sc.nextInt();\n",
    "        int result = 0;\n",
    "        \n",
    "        while(true){\n",
    "            int target = (n/k) * k;\n",
    "            result += (n - target);\n",
    "            n = target;\n",
    "            \n",
    "            if(n < k) break;\n",
    "            \n",
    "            result += 1;\n",
    "            n /= k;\n",
    "        }\n",
    "        result += (n-1);\n",
    "        System.out.println(result);\n",
    "    }\n",
    "}\n",
    "```"
   ]
  },
  {
   "cell_type": "markdown",
   "id": "6adaed0d",
   "metadata": {},
   "source": [
    "<hr>"
   ]
  },
  {
   "cell_type": "markdown",
   "id": "9bd0736a",
   "metadata": {},
   "source": [
    "## 곱하기 혹은 더하기\n",
    "### 설명 \n",
    "각 자리 숫자(0~9)로만 이루어진 문자열 S가 주어졌을 때, 왼쪽부터 오른쪽으로 하니씩 모든 숫자를 확인하며 숫자 사이에 \"x\" 혹은 \"+\" 연산자를 넣어 결과적으로 만들어질 수 있는 가장 큰 수를 구하는 프로그램을 작성<br>\n",
    "단, +보다 x를 먼저 계산하는 일반적인 방식과는 달리, 모든 연산은 왼쪽부터 순서대로 이루어진다고 가정<br>\n",
    "\n",
    "예를 들어 02984라는 문자열로 만들 수 있는 가장 큰 수는 ((((0 + 2) * 9) * 8) * 4) = 576임<br>\n",
    "\n",
    "또한 만들어질 수 있는 가장 큰 수는 항상 20억 이하의 정수가 되도록 입력이 주어짐<br><br>\n",
    "\n",
    "\n",
    "\n",
    "### 문제 조건\n",
    "난이도 : 하 | 풀이 시간 : 30분 | 시간 제한 : 1초| 메모리 제한 : 128MB | 기출 : Facebook 인터뷰<br>\n",
    "\n",
    "입력 조건 : <br>\n",
    "첫째 줄에 여러 개의 숫자로 구성된 하나의 문자열 S가 주어짐<br>\n",
    "1 <= S의 길이 <= 20<br>\n",
    "e.g. 02948<br>\n",
    "\n",
    "출력 조건 : <br>\n",
    "첫째 줄에 만들어질 수 있는 가장 큰 수를 출력<br>\n",
    "e.g. 576<br><br>\n",
    "\n",
    "\n",
    "\n",
    "### 아이디어\n",
    "- 대부분의 경우 \"+\"보다 \"x\"가 값을 더 크게 만듦\n",
    "- 두 수 중에서 하나라도 0 혹은 1인 경우 곱하기보다는 더하기를 수행하는 것이 효율적"
   ]
  },
  {
   "cell_type": "markdown",
   "id": "23312ca0",
   "metadata": {},
   "source": [
    "### 답안 예시"
   ]
  },
  {
   "cell_type": "code",
   "execution_count": 13,
   "id": "5c749a3a",
   "metadata": {},
   "outputs": [
    {
     "name": "stdout",
     "output_type": "stream",
     "text": [
      "02489\n",
      "576\n"
     ]
    }
   ],
   "source": [
    "data = input()\n",
    "\n",
    "result = int(data[0])\n",
    "\n",
    "for i in range(1, len(data)):\n",
    "    num = int(data[i])\n",
    "    if num <= 1 or result <= 1:\n",
    "        result += num\n",
    "    else:\n",
    "        result *= num\n",
    "        \n",
    "print(result)"
   ]
  },
  {
   "cell_type": "markdown",
   "id": "2ddfde01",
   "metadata": {},
   "source": [
    "### 답안 예시(C++)\n",
    "```C++\n",
    "#include <bits/stdc++.h>\n",
    "\n",
    "using namespace std;\n",
    "\n",
    "string str;\n",
    "\n",
    "int main(void){\n",
    "    cin >> str;\n",
    "    \n",
    "    long long result = str[0] - '0';\n",
    "    // 문자를 숫자로 변경한 값 대입\n",
    "    // 0에 해당하는 아스키 값을 빼서 넣어줌\n",
    "    \n",
    "    for(int i = 1; i < str.size(); i++){\n",
    "        int num = str[i] - '0';\n",
    "        if(num <= 1 || result <= 1) result += num;\n",
    "        else result *= num;\n",
    "    }\n",
    "    cout << result << '\\n';\n",
    "}\n",
    "```"
   ]
  },
  {
   "cell_type": "markdown",
   "id": "8939224c",
   "metadata": {},
   "source": [
    "### 답안 예시(Java)\n",
    "```Java\n",
    "import Java.util.*;\n",
    "\n",
    "public class Main{\n",
    "    public static void main(String[] args){\n",
    "        Scanner sc = new Scanner(System.in);\n",
    "        String str = sc.next();\n",
    "        \n",
    "        long result = str.charAt(0) - '0';\n",
    "        \n",
    "        for(int i = 1; i < str.length(); i++){\n",
    "            int num = str.charAt(i) = '0';\n",
    "            if (num <= 1 || result <= 1){\n",
    "                result += num;\n",
    "            } else {\n",
    "                result *= num;\n",
    "            }\n",
    "        }\n",
    "        System.out.println(result);\n",
    "    }\n",
    "}\n",
    "```"
   ]
  },
  {
   "cell_type": "markdown",
   "id": "14b4afef",
   "metadata": {},
   "source": [
    "<hr>"
   ]
  },
  {
   "cell_type": "markdown",
   "id": "fda52d57",
   "metadata": {},
   "source": [
    "## 모험가 길드\n",
    "### 설명\n",
    "한 마을에 모험가 N명이 존재. 모험가 길드에서 N명의 모험가를 대상으로 \"공포도\"를 측정했는데, \"공포도\"가 높은 모험가는 쉽게 공포를 느껴 위험 상황에서 제대로 대처하는 능력이 떨어짐<br>\n",
    "모험가 길드장이 모험가 그룹을 안전하게 구성하고자 공포도가 X인 모험가는 반드시 X명으로 구성한 모험가 그룹에 참여해야 여행을 떠날 수 있도록 규정함<br>\n",
    "길드장은 최대 몇 개의 모험가 그룹을 만들 수 있는지 궁금함. N명의 모험가에 대한 정보가 주어졌을 때, 여행을 떠날 수 있는 그룹 수의 최댓값을 구하는 프로그램작성<br>\n",
    "\n",
    "N = 5이고, 각 모험가의 공포도가 다음과 같다고 가정<br>\n",
    "2 3 1 2 2<br>\n",
    "\n",
    "이 경우 그룹 1에 공포도가 1, 2, 3인 모험가를 한 명씩 넣고, 그룹 2에 공포도가 2인 남은 두 명을 넣으면 2개의 그룹을 만들 수 있음<br>\n",
    "반드시 모든 모험가를 특정한 그룹에 넣을 필요는 없음<br><br>\n",
    "\n",
    "\n",
    "\n",
    "### 조건\n",
    "난이도 : 하 | 풀이 시간 : 30분 | 시간 제한 : 1초 | 메모리 제한 : 128MB | 기출 : 핵심유형<br>\n",
    "\n",
    "입력조건 :<br>\n",
    "첫째 줄에 모험가의 수 N이 주어짐(1 <= N <- 100,000)<br>\n",
    "둘째 줄에 각 모험가의 공포도 값이 N이하의 자연수로 주어지며, 자연수는 공백으로 구분<br>\n",
    "\n",
    "출력 조건 :<br>\n",
    "여행을 떠날 수 있는 그룹 수의 최댓값 출력<br><br>\n",
    "\n",
    "\n",
    "\n",
    "### 아이디어\n",
    "- 오름차순 정렬 후 공포도가 가장 낮은 모험가부터 확인\n",
    "- 현재 그룹에 포함된 모험가의 수가 현재 확인하고 있는 공포도보다 크거나 같다면 이를 그룹으로 설정\n",
    "- 공포도가 오름차순 정렬되어 있다는 점에서, 최소한의 모험가의 수만을 포함하여 그룹을 결성하게 됨"
   ]
  },
  {
   "cell_type": "markdown",
   "id": "2435ab2f",
   "metadata": {},
   "source": [
    "### 답안 예시"
   ]
  },
  {
   "cell_type": "code",
   "execution_count": 18,
   "id": "a69b8d57",
   "metadata": {},
   "outputs": [
    {
     "name": "stdout",
     "output_type": "stream",
     "text": [
      "10\n",
      "1 2 1 1 3 1 3 3 2 2\n",
      "6\n"
     ]
    }
   ],
   "source": [
    "n = int(input())\n",
    "data = list(map(int, input().split()))\n",
    "data.sort()\n",
    "\n",
    "result = 0 \n",
    "count = 0\n",
    "\n",
    "for i in data:\n",
    "    count += 1\n",
    "    if count >= i:\n",
    "        result += 1\n",
    "        count = 0\n",
    "        \n",
    "print(result)"
   ]
  },
  {
   "cell_type": "markdown",
   "id": "aa2a51b2",
   "metadata": {},
   "source": [
    "### 답안 예시(C++)\n",
    "```C++\n",
    "#include <bits/stdc++.h>\n",
    "\n",
    "using namespace std;\n",
    "\n",
    "int n;\n",
    "vector<int> arr;\n",
    "// vector library 사용\n",
    "\n",
    "int main(void){\n",
    "    cin >> n;\n",
    "    for(int i = 0; i < n; i++){\n",
    "        int x;\n",
    "        cin >> x;\n",
    "        arr.push_back(x);\n",
    "    }\n",
    "    sort(arr.begin(), arr.end());\n",
    "    \n",
    "    int result = 0;\n",
    "    int cnt = 0;\n",
    "    \n",
    "    int result = 0;\n",
    "    int cnt = 0;\n",
    "    for(int i = 0; i < n; i++){\n",
    "        cnt += 1;\n",
    "        if(cnt >= arr[i]){\n",
    "            result += 1;\n",
    "            cnt = 0\n",
    "        }\n",
    "    }\n",
    "    cout << reulst << '\\n';\n",
    "}\n",
    "```"
   ]
  },
  {
   "cell_type": "code",
   "execution_count": null,
   "id": "6fbfdbfd",
   "metadata": {},
   "outputs": [],
   "source": []
  }
 ],
 "metadata": {
  "kernelspec": {
   "display_name": "Python 3",
   "language": "python",
   "name": "python3"
  },
  "language_info": {
   "codemirror_mode": {
    "name": "ipython",
    "version": 3
   },
   "file_extension": ".py",
   "mimetype": "text/x-python",
   "name": "python",
   "nbconvert_exporter": "python",
   "pygments_lexer": "ipython3",
   "version": "3.8.8"
  }
 },
 "nbformat": 4,
 "nbformat_minor": 5
}
