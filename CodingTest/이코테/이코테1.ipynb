{
 "cells": [
  {
   "cell_type": "markdown",
   "id": "aaf9ac22",
   "metadata": {},
   "source": [
    "2021-06-14<br>\n",
    "이것이 취업을 위한 코딩테스트다 with 파이썬\n",
    "<hr>"
   ]
  },
  {
   "cell_type": "markdown",
   "id": "dc457046",
   "metadata": {},
   "source": [
    "# 1강 : 코딩테스트 개요"
   ]
  },
  {
   "cell_type": "markdown",
   "id": "9e843bd1",
   "metadata": {},
   "source": [
    "### 코딩테스트?\n",
    "기업/기관에서 직원이나 연구생을 선발하기 위한 목적으로 시행되는 문제풀이 시험\n",
    "\n",
    "\n",
    "### 테스트 유형\n",
    "- 온라인 코딩 테스트 :\n",
    "    인터넷 활용\n",
    "    문제 풀이 공유하지 않는 선에서 인터넷 검색 허용\n",
    "\n",
    "- 오프라인 코딩 테스트 :\n",
    "    시험장 방문\n",
    "    검색 불허용. 회사 제공 컴퓨터 환경 이용\n",
    "\n",
    "\n",
    "### 온라인 저지(Online Judge)\n",
    "프로그래밍 대회, 코딩 테스트에서 나올법한 문제 시험해보는 온라인 시스템\n",
    "- 해외 : \n",
    "    - 코드포스(Codeforces) : <br>\n",
    "        https://www.codeforces.com\n",
    "    - 탑코더(TopCoder) :<br>\n",
    "        https://www.topcoder.com\n",
    "    - 릿코드(LeetCode) :<br>\n",
    "        https://leetcode.com\n",
    "    - 코드세프(CODECHEF) :<br>\n",
    "        https://www.codechef.com\n",
    "\n",
    "- 국내 :\n",
    "    - 백준 온라인 저지(BOJ) :<br>\n",
    "        https://www.acmicpc.net<br>\n",
    "        많은 대기업 코딩테스트 있음\n",
    "    - 코드업(CodeUp) :<br>\n",
    "        https://codeup.kr<br>\n",
    "        초급추천\n",
    "    - 프로그래머스(Programmers) :<br>\n",
    "        https://progrmmers.co.kr\n",
    "    - SW Expert Academy :<br>\n",
    "        https://swexpertacademy.com\n",
    "\n",
    "\n",
    "### 온라인 개발 환경(Python)\n",
    "리플릿 : https://repl.it/languages/python3<br>\n",
    "코드 작성하고 실행결과를 확인하며, 코드를 공유할 수 있음\n",
    "\n",
    "파이썬 튜터 : http://pythontutor.com/visualize.html <br>\n",
    "어떤 변수에 어떤게 값이 담기는지 보여줌. 처음 사용하는사람에게 추천\n"
   ]
  },
  {
   "cell_type": "markdown",
   "id": "f8194e3d",
   "metadata": {},
   "source": [
    "<hr>"
   ]
  },
  {
   "cell_type": "markdown",
   "id": "17cf8989",
   "metadata": {},
   "source": [
    "# 2강 : 알고리즘 성능 평가"
   ]
  },
  {
   "cell_type": "markdown",
   "id": "3aceadd1",
   "metadata": {},
   "source": [
    "## 시간 복잡도"
   ]
  },
  {
   "cell_type": "markdown",
   "id": "90d9da6c",
   "metadata": {},
   "source": [
    "### 복잡도\n",
    "알고리즘의 성능을 나타내는 척도\n",
    "- 시간 복잡도 : 특정 크기의 입력에 대하여 알고리즘의 수행시간 분석\n",
    "- 공간 복잡도 : 특정한 크기의 입력에 대하여 알고리즘의 메모리 사용량 분석\n",
    "- 동일한 기능 수행하는 알고리즘은 일반적으로 복잡도가 낮을 수록 좋은 알고리즘\n",
    "\n",
    "\n",
    "### 복잡도 계산 방법\n",
    "#### 빅오 표기법(Big-O Notation)\n",
    "가장 빠르게 증가하는 항만을 고려하는 표기법<br>\n",
    "함수의 상한만을 나타내게 됨<br>\n",
    "차수가 가장 큰 항 만을 남김<br>\n",
    "\n",
    "<!--&emsp; : 탭(4칸 공백), &nbsp : 1칸 공백-->\n",
    "O(1)&emsp;O(logN)&emsp;O(N)&emsp;O(NlogN)&emsp;O(N^2)&emsp;O(N^3)&emsp;O(2^N)<br>\n",
    "Batter <------------------------------------------------------------> Worse\n",
    "\n",
    "O(1) : 상수시간(Constant time)<br>\n",
    "O(logN) : 로그 시간(Log time)<br>\n",
    "O(N) : 선형 시간(Linear time)<br>\n",
    "O(NlogN) : 로그 선형 시간<br>\n",
    "O(N^2) : 이차 시간<br>\n",
    "O(N^3) : 삼차 시간<br>\n",
    "O(2^N) : 지수 시간"
   ]
  },
  {
   "cell_type": "markdown",
   "id": "c6d4cefc",
   "metadata": {},
   "source": [
    "<hr>"
   ]
  },
  {
   "cell_type": "markdown",
   "id": "aa8d6729",
   "metadata": {},
   "source": [
    "### 시간복잡도 예제 "
   ]
  },
  {
   "cell_type": "markdown",
   "id": "ba2dbe93",
   "metadata": {},
   "source": [
    "#### 1) 반복문을 이용하는 프로그램"
   ]
  },
  {
   "cell_type": "code",
   "execution_count": 1,
   "id": "0a368d77",
   "metadata": {},
   "outputs": [
    {
     "name": "stdout",
     "output_type": "stream",
     "text": [
      "15\n"
     ]
    }
   ],
   "source": [
    "array = [3, 5, 1, 2, 4]\n",
    "summary = 0\n",
    "\n",
    "# N(데이터의 개수)이 커짐에 따라 영향을 받는 부분\n",
    "for x in array:\n",
    "    summary += x\n",
    "    \n",
    "print(summary)"
   ]
  },
  {
   "cell_type": "markdown",
   "id": "9ebee2fc",
   "metadata": {},
   "source": [
    "위 코드의 수행시간은 데이터의 개수 N에 비례할것으로 예측할 수 있음<br>\n",
    "따라서 위 코드의 시간복잡도는 O(N) 으로 나타낼 수 있음"
   ]
  },
  {
   "cell_type": "markdown",
   "id": "9dfd4bdf",
   "metadata": {},
   "source": [
    "#### 2) 2중 반복문을 이용하는 프로그램"
   ]
  },
  {
   "cell_type": "code",
   "execution_count": 3,
   "id": "a8cd6ba7",
   "metadata": {},
   "outputs": [],
   "source": [
    "array = [3, 5, 1, 2, 4]\n",
    "\n",
    "for i in array:\n",
    "    for j in array:\n",
    "        temp = i * j\n",
    "#         print(temp)"
   ]
  },
  {
   "cell_type": "markdown",
   "id": "3daea92c",
   "metadata": {},
   "source": [
    "위 프로그램의 시간 복잡도 : O(N^2)<br>\n",
    "모든 2중 반복문의 시간복잡도가 O(N^2) 인 것은 아님<br>\n",
    "소스코드가 반복문 내에 다른 함수를 호출한다면, 그 함수의 시간복잡도도 고래해야함\n",
    "<hr>"
   ]
  },
  {
   "cell_type": "markdown",
   "id": "9b91678f",
   "metadata": {},
   "source": [
    "## 알고리즘 설계 팁\n",
    "### 일반적으로 CPU 기반의 개인 컴퓨터나 채점용 컴픁에서 연산 횟수가 5억을 넘어가는 경우\n",
    "- C 언어 기준 : 통상 1~3 초 소요\n",
    "- Python 기준 : 통상 5 ~ 15초 소요<br>\n",
    "    시스템에서 PyPy를 지원하는 경우 C언어보다 빠르게 동작하기도 함. <br>\n",
    "    그렇다하여도 PyPy가 무조건 파이썬보다 빠르게 동작하는것도 아니라는것을  유의해둘것\n",
    "\n",
    "\n",
    "### O(N^3) 의 알고리즘을 설계한 경우,  N의 값이 5000을 넘어갈 때 소요되는 시간?\n",
    "- 5000^3인 1250억이 연산 횟수임. <br>\n",
    "    이 때, 파이썬이 1초에 2000만 번 정도의 계산을 처리할 수 있다면, 1250억을 2000만으로 나눈 값을 소요시간으로 예상할 수 있음<br>\n",
    "<br>\n",
    "- 코딩테스트를 진행할 때는 파이썬이 1초에 2000만 번 정도의 연산을 수행할 수 있다고 가정하고 문제를 풀어나가는 것이 좋음. <br>코딩테스트 환경에 따라 조금씩 달라질 수 있음<br>\n",
    "<br>\n",
    "- 코딩 테스트 문제에서 시간제한은 통상 1~5초.<br> 문제에 명시되어있지 않은 경우 5초라고 가정하고 문제를 푸는 것이 합리적"
   ]
  },
  {
   "cell_type": "markdown",
   "id": "080fb69e",
   "metadata": {},
   "source": [
    "<hr>"
   ]
  },
  {
   "cell_type": "markdown",
   "id": "0e97aa90",
   "metadata": {},
   "source": [
    "## 요구사항별 알고리즘 설계\n",
    "수행시간 요구사항(시간제한) 확인\n",
    "\n",
    "### 시간제한이 1초인 문제일 때, 일반적인 기준\n",
    "- N 범위 500 : O(N^3)인 알고리즘 설계\n",
    "- N 범위 2000 : O(N^2)인 알고리즘 설계\n",
    "- N 범위 100,000 : O(NlogN)인 알고리즘 설계\n",
    "- N 범위 10,000,000 : O(N)인 알고리즘 설계\n",
    "\n",
    "외관으로 보았을 때는 시간복잡도가 낮아보이더라도 여러요인에 의해서 불필요하게 시간이 많이 소요되어 시간초과 판정을 받는 경우도 있음. 따라서 많은 문제를 접해보고 상황에 맞춰서 변화를 주는것이 좋음"
   ]
  },
  {
   "cell_type": "markdown",
   "id": "58473863",
   "metadata": {},
   "source": [
    "<hr>"
   ]
  },
  {
   "cell_type": "markdown",
   "id": "d0570c21",
   "metadata": {},
   "source": [
    "## 알고리즘 문제 해결 과정\n",
    "- 지문읽기 및 컴퓨터적 사고\n",
    "- 요구사항(복잡도) 분석\n",
    "- 문제해결을 위한 아이디어 찾기\n",
    "- 소스코드 설계 및 코딩\n",
    "\n",
    "문제를 잘게 나누어서 각 상황에 어떤것이 필요한지 분석<br>\n",
    "대부분의 문제들이 핵심 아이디어만 캐치해내면, 간결하게 소스코드를 작성할 수 있는 형태로 출제됨"
   ]
  },
  {
   "cell_type": "markdown",
   "id": "cbe9dcf4",
   "metadata": {},
   "source": [
    "<hr>"
   ]
  },
  {
   "cell_type": "markdown",
   "id": "ae54691a",
   "metadata": {},
   "source": [
    "## 수행시간 측정 예제"
   ]
  },
  {
   "cell_type": "code",
   "execution_count": 4,
   "id": "66bedc4c",
   "metadata": {},
   "outputs": [
    {
     "name": "stdout",
     "output_type": "stream",
     "text": [
      "time : 0.0\n"
     ]
    }
   ],
   "source": [
    "import time\n",
    "start_time = time.time()\n",
    "# 측정시작\n",
    "\n",
    "end_time = time.time()\n",
    "# 측정 종료\n",
    "print(\"time :\", end_time - start_time)\n",
    "# 수행시간 출력"
   ]
  },
  {
   "cell_type": "markdown",
   "id": "07ac6d3c",
   "metadata": {},
   "source": [
    "<hr>"
   ]
  },
  {
   "cell_type": "markdown",
   "id": "cff92cb1",
   "metadata": {},
   "source": [
    "# 3강~11강 : 파이썬 문법\n",
    "## 3강 : 수 자료형"
   ]
  },
  {
   "cell_type": "markdown",
   "id": "c0dc206f",
   "metadata": {},
   "source": [
    "#### 지수 표현 방식"
   ]
  },
  {
   "cell_type": "code",
   "execution_count": 6,
   "id": "988dc490",
   "metadata": {},
   "outputs": [
    {
     "name": "stdout",
     "output_type": "stream",
     "text": [
      "1000000000.0\n",
      "2.5\n",
      "3.954\n"
     ]
    }
   ],
   "source": [
    "print(1e9)\n",
    "print(.25e1)  # .25 = 0.25\n",
    "print(3954e-3)"
   ]
  },
  {
   "cell_type": "markdown",
   "id": "69af8f6f",
   "metadata": {},
   "source": [
    "#### 실수형 더 알아보기"
   ]
  },
  {
   "cell_type": "code",
   "execution_count": 9,
   "id": "8fa60d7c",
   "metadata": {},
   "outputs": [
    {
     "name": "stdout",
     "output_type": "stream",
     "text": [
      "실수비교\n",
      "0.8999999999999999\n",
      "False\n",
      "\n",
      "\n",
      "\n",
      "round()\n",
      "0.8999999999999999\n",
      "True\n"
     ]
    }
   ],
   "source": [
    "print(\"실수비교\")\n",
    "print(0.3 + 0.6)\n",
    "\n",
    "if 0.3 + 0.6 == 0.9:\n",
    "    print(True)\n",
    "else:\n",
    "    print(False)\n",
    "# 둘이 다르다고 출력됨\n",
    "# 이는 컴퓨터가 이진수를 기반으로 수를 다루기 때문에 발생하는 오차임\n",
    "# 이처럼 실수값을 제대로 비교하지 못해서 원하는 결과를 얻지 못할 수 있음\n",
    "# 때문에 round()함수 사용을 권장함\n",
    "print(\"\\n\\n\")\n",
    "\n",
    "\n",
    "print(\"round()\")\n",
    "print(0.3 + 0.6)\n",
    "\n",
    "if round(0.3+0.6, 4) == 0.9:\n",
    "    print(True)\n",
    "else:\n",
    "    print(False)"
   ]
  },
  {
   "cell_type": "markdown",
   "id": "958432ad",
   "metadata": {},
   "source": [
    "<hr>"
   ]
  },
  {
   "cell_type": "markdown",
   "id": "8f2d1e26",
   "metadata": {},
   "source": [
    "## 4강 : 리스트 자료형"
   ]
  },
  {
   "cell_type": "markdown",
   "id": "f47c5928",
   "metadata": {},
   "source": [
    "#### 리스트 컴프리헨션\n",
    "리스트를 초기화하는 방법 중 하나<br>\n",
    "대괄호 안에 조건문과 반복문을 적용하여 리스트 초기화<br>\n",
    "2차원 리스트 초기화 할 때 효과적으로 사용<br>"
   ]
  },
  {
   "cell_type": "code",
   "execution_count": 25,
   "id": "bde69bff",
   "metadata": {},
   "outputs": [
    {
     "name": "stdout",
     "output_type": "stream",
     "text": [
      "[0, 1, 2, 3, 4, 5, 6, 7, 8, 9]\n",
      "\n",
      "[1, 3, 5, 7, 9, 11, 13, 15, 17, 19]\n",
      "\n",
      "[1, 4, 9, 16, 25, 36, 49, 64, 81]\n"
     ]
    }
   ],
   "source": [
    "# 리스트 컴프리헨션 기초\n",
    "# 0~9\n",
    "print([i for i in range(10)])\n",
    "\n",
    "# 리스트 컴프리헨션을 사용할 때는 원소를 넣고 반복문을 넣는 것 보다\n",
    "# 반복문부터 넣고 원소를 넣는 것을 추천함\n",
    "# [원소 for i in range(10)]\n",
    "print()\n",
    "\n",
    "\n",
    "# 0 ~ 19, 홀수만 포함\n",
    "print([i for i in range(20) if i % 2 == 1])\n",
    "print()\n",
    "\n",
    "\n",
    "# 1~9. 제곱\n",
    "print([i * i for i in range(1, 10)])"
   ]
  },
  {
   "cell_type": "code",
   "execution_count": 23,
   "id": "ab255b35",
   "metadata": {},
   "outputs": [
    {
     "name": "stdout",
     "output_type": "stream",
     "text": [
      "[[0, 0, 0], [0, 0, 0], [0, 0, 0], [0, 0, 0]]\n",
      "[[0, 0, 0], [0, 0, 0], [0, 0, 0], [0, 0, 0]]\n",
      "\n",
      "결과 비교\n",
      "[[0, 0, 0], [0, 5, 0], [0, 0, 0], [0, 0, 0]]\n",
      "[[0, 5, 0], [0, 5, 0], [0, 5, 0], [0, 5, 0]]\n"
     ]
    }
   ],
   "source": [
    "# 2차원 리스트 초기화\n",
    "\n",
    "# 올바른 예시\n",
    "a = [[0] * 3 for _ in range(4)]\n",
    "print(a)\n",
    "\n",
    "# 틀린 예시\n",
    "b = [[0] * 3] * 4\n",
    "print(b)\n",
    "print()\n",
    "\n",
    "\n",
    "print(\"결과 비교\")\n",
    "a[1][1] = 5\n",
    "print(a)\n",
    "b[1][1] = 5\n",
    "print(b)\n",
    "\n",
    "\n",
    "# b와 같이 생성하면, 내부적으로 리스트를 같은 객체로 인식을 하기 때문에\n",
    "# 1개의 데이터가 아닌 4개의 데이터의 값이 변하는것"
   ]
  },
  {
   "cell_type": "markdown",
   "id": "c1f06032",
   "metadata": {},
   "source": [
    "#### 언더바 사용?\n",
    "반복을 수행하되 반복을 위한 변수의 값을 무시하고자 할 때 언더바를 자주 사용"
   ]
  },
  {
   "cell_type": "code",
   "execution_count": 26,
   "id": "6db4330b",
   "metadata": {},
   "outputs": [
    {
     "name": "stdout",
     "output_type": "stream",
     "text": [
      "Hello Wolrd\n",
      "Hello Wolrd\n",
      "Hello Wolrd\n",
      "Hello Wolrd\n",
      "Hello Wolrd\n"
     ]
    }
   ],
   "source": [
    "# 언더바 사용 예\n",
    "\n",
    "for _ in range(5):\n",
    "    print(\"Hello Wolrd\")\n",
    "\n",
    "# 다음과 같이 반복은 수행하되, 변수는 사용하지 않을 때 사용함"
   ]
  },
  {
   "cell_type": "markdown",
   "id": "f4744b7b",
   "metadata": {},
   "source": [
    "#### 리스트 관련 메서드\n",
    "메서드 : 시간복잡도<br><br>\n",
    "\n",
    "append() : O(1)<br>\n",
    "sort(reverse = True) : O(NlogN)<br>\n",
    "reverse() : O(N)<br>\n",
    "insert(삽입 위치, 삽입값) : O(N)<br>\n",
    "count() : O(N)<br>\n",
    "remove() : O(N)"
   ]
  },
  {
   "cell_type": "markdown",
   "id": "07560186",
   "metadata": {},
   "source": [
    "<hr>"
   ]
  },
  {
   "cell_type": "markdown",
   "id": "675138f9",
   "metadata": {},
   "source": [
    "## 5강 : 문자열, 튜플 자료형"
   ]
  },
  {
   "cell_type": "markdown",
   "id": "6a6be497",
   "metadata": {},
   "source": [
    "#### 튜플\n",
    "리스트에 비해 상대적으로 공간 효율적\n",
    "\n",
    "#### 사용하면 좋은 경우?\n",
    "- 서로 다른 성질의 데이터를 묶어서 관리할 때 :<br>\n",
    "    최단경로 알고리즘에서는 (비용, 노드번호)의 형태로 튜플 자주 사용<br><br>\n",
    "- 데이터의 나열을 해싱(Hashing)의 키 값으로 사용해야 할 때 :<br>\n",
    "    튜플은 변경이 불가능하므로 리스트와 다르게 키값으로 사용할 수 있음<br><br>\n",
    "- 리스트보다 메모리를 효율적으로 사용해야 할 때"
   ]
  },
  {
   "cell_type": "markdown",
   "id": "7b2d85b7",
   "metadata": {},
   "source": [
    "<hr>"
   ]
  },
  {
   "cell_type": "markdown",
   "id": "32f87616",
   "metadata": {},
   "source": [
    "## 6강 : 사전(Dictionary), 집합 자료형"
   ]
  },
  {
   "cell_type": "markdown",
   "id": "a34a8816",
   "metadata": {},
   "source": [
    "#### 집합\n",
    "- 중복을 허용하지 않음\n",
    "- 순서가 존재하지 않음. 따라서 인덱싱으로 값을 얻을 수 없음\n",
    "- 리스트 혹은 문자열을 이용하여 초기화(set() 이용)\n",
    "- 중괄호 안에 원소를 콤마를 기준으로 구분하여 삽입함으로써 초기화 가능\n",
    "- 데이터 조회 및 수정에서 O(1)의 시간으로 처리할 수 있음"
   ]
  },
  {
   "cell_type": "code",
   "execution_count": 33,
   "id": "10e3bd84",
   "metadata": {},
   "outputs": [
    {
     "name": "stdout",
     "output_type": "stream",
     "text": [
      "<class 'set'>\n",
      "{1, 2, 3, 4, 5}\n",
      "<class 'set'>\n",
      "{1, 2, 3, 4, 5}\n",
      "\n",
      "\n",
      "\n",
      "{1, 2, 3, 4, 5, 6, 7}\n",
      "{3, 4, 5}\n",
      "{1, 2}\n",
      "\n",
      "\n",
      "\n",
      "{1, 2, 3}\n",
      "{1, 2, 3, 4}\n",
      "{1, 2, 3, 4, 5, 6}\n",
      "{1, 2, 4, 5, 6}\n"
     ]
    }
   ],
   "source": [
    "# 집합 기초\n",
    "\n",
    "# 초기화 1\n",
    "data = set([1, 1, 2, 3, 4, 4, 5])\n",
    "print(type(data))\n",
    "print(data)\n",
    "\n",
    "# 초기화 2\n",
    "data = {1, 1, 2, 3, 4, 4, 5}\n",
    "print(type(data))\n",
    "print(data)\n",
    "# 자료형이 집합이기 때문에 초기화를 해도 중복을 허용하지 않음\n",
    "print(\"\\n\\n\")\n",
    "\n",
    "\n",
    "\n",
    "# 연산\n",
    "# 합집합, 교집합, 차집합\n",
    "a = set([1, 2, 3, 4, 5])\n",
    "b = set([3, 4, 5, 6, 7])\n",
    "\n",
    "# 합집합(OR, |)\n",
    "print(a | b)\n",
    "\n",
    "# 교집합(AND, &)\n",
    "print(a & b)\n",
    "\n",
    "# 차집합(-)\n",
    "print(a - b)\n",
    "print(\"\\n\\n\")\n",
    "\n",
    "\n",
    "\n",
    "# 원소 추가/제거\n",
    "data = set([1, 2, 3])\n",
    "print(data)\n",
    "\n",
    "# 원소 1개 추가 : add()\n",
    "data.add(4)\n",
    "print(data)\n",
    "\n",
    "# 원소 n개 추가 : update([])\n",
    "data.update([5, 6])\n",
    "print(data)\n",
    "\n",
    "# 값기준 원소 제거 : remove()\n",
    "data.remove(3)\n",
    "print(data)"
   ]
  },
  {
   "cell_type": "markdown",
   "id": "6b5eef30",
   "metadata": {},
   "source": [
    "<hr>"
   ]
  },
  {
   "cell_type": "markdown",
   "id": "d621e5ff",
   "metadata": {},
   "source": [
    "## 7강 : 기본 입출력"
   ]
  },
  {
   "cell_type": "markdown",
   "id": "3f17eab6",
   "metadata": {},
   "source": [
    "#### 표준 입력 방법\n",
    "input() : 한 줄 입력<br>\n",
    "map() : 리스트의 모든 원소에 각각 특정한 함수를 적용할 때 사용"
   ]
  },
  {
   "cell_type": "code",
   "execution_count": 41,
   "id": "b9ca97e8",
   "metadata": {},
   "outputs": [
    {
     "name": "stdout",
     "output_type": "stream",
     "text": [
      "1 2 3 4 5 6 7 8 9 10\n",
      "[1, 2, 3, 4, 5, 6, 7, 8, 9, 10]\n",
      "1 2 3\n",
      "1 2 3\n"
     ]
    }
   ],
   "source": [
    "print(list(map(int, input().split())))\n",
    "\n",
    "a, b, c = map(int, input().split())\n",
    "print(a, b, c)"
   ]
  },
  {
   "cell_type": "markdown",
   "id": "2437fc85",
   "metadata": {},
   "source": [
    "#### 빠르게 입력 받기\n",
    "sys.stdin.readline() 메서드 이용<br>\n",
    "Enter키가 줄바꿈기호(\\n)로 입력되므로 rstrip() 메서드를 사용하여 줄바꿈 기호를 제거해주는 형태로 사용함"
   ]
  },
  {
   "cell_type": "code",
   "execution_count": 48,
   "id": "074cca70",
   "metadata": {},
   "outputs": [
    {
     "name": "stdout",
     "output_type": "stream",
     "text": [
      "\n"
     ]
    }
   ],
   "source": [
    "# sys.stdin.readline()\n",
    "\n",
    "import sys\n",
    "\n",
    "data = sys.stdin.readline().rstrip()\n",
    "print(data)\n",
    "\n",
    "# 노트북으로는 입력이 안되는듯"
   ]
  },
  {
   "cell_type": "markdown",
   "id": "8b3ead4f",
   "metadata": {},
   "source": [
    "#### 표준 출력 방법\n",
    "print() : 콤마로 띄어쓰기 구분하여 출력할 수 있음<br>\n",
    "출력 이후 줄바꿈을 수행하나, 원치 않는 경우 end 속성을 이용하면 됨"
   ]
  },
  {
   "cell_type": "code",
   "execution_count": 49,
   "id": "94354acf",
   "metadata": {},
   "outputs": [
    {
     "name": "stdout",
     "output_type": "stream",
     "text": [
      "a b "
     ]
    }
   ],
   "source": [
    "# print()\n",
    "\n",
    "print(\"a\", end = \" \")\n",
    "print(\"b\", end = \" \")\n",
    "\n",
    "# 공백을 기준으로 띄워서 출력됨"
   ]
  },
  {
   "cell_type": "markdown",
   "id": "a0a50fdf",
   "metadata": {},
   "source": [
    "<hr>"
   ]
  },
  {
   "cell_type": "markdown",
   "id": "ce37d593",
   "metadata": {},
   "source": [
    "## 8 : 조건문\n",
    "인덴트를 넣어줄 때, 파이썬에서는 4개의 공백문자를 사용하는것을 표준으로 설정하고 있음"
   ]
  },
  {
   "cell_type": "markdown",
   "id": "aa804f08",
   "metadata": {},
   "source": [
    "#### 조건문의 간소화\n",
    "- 조건문에서 실행할 소스 코드가 한 줄인 경우 줄바꿈하지 않고 간략하게 표현가능\n",
    "- 조건부 표현식(Conditional Expression)은 if~else문을 한 줄에 작성할 있도록 해줌"
   ]
  },
  {
   "cell_type": "code",
   "execution_count": 50,
   "id": "9b4ecb86",
   "metadata": {},
   "outputs": [],
   "source": [
    "# 조건부 표현식\n",
    "\n",
    "score = 85\n",
    "result = \"Success\" if score >= 80 else \"Fail\"\n",
    "# 참일때실행할것 if 조건 else 거짓일실행할것"
   ]
  },
  {
   "cell_type": "markdown",
   "id": "2de74134",
   "metadata": {},
   "source": [
    "<hr>"
   ]
  },
  {
   "cell_type": "markdown",
   "id": "215578ec",
   "metadata": {},
   "source": [
    "## 9 : 반복문 "
   ]
  },
  {
   "cell_type": "markdown",
   "id": "f85142f3",
   "metadata": {},
   "source": [
    "<hr>"
   ]
  },
  {
   "cell_type": "markdown",
   "id": "a59d4d0c",
   "metadata": {},
   "source": [
    "## 10 : 함수"
   ]
  },
  {
   "cell_type": "markdown",
   "id": "2aea9c51",
   "metadata": {},
   "source": [
    "#### global 키워드\n",
    "globar 키워드로 변수를 지정해주면 해당 함수에서는 지역변수를 만들지 않고, 함수 바깥에 선언된 변수를 바로 참조함"
   ]
  },
  {
   "cell_type": "code",
   "execution_count": 53,
   "id": "f589593e",
   "metadata": {},
   "outputs": [
    {
     "name": "stdout",
     "output_type": "stream",
     "text": [
      "10 21 2\n"
     ]
    }
   ],
   "source": [
    "a = 0\n",
    "\n",
    "def func():\n",
    "    global a, b, c\n",
    "    a += 1\n",
    "    b += 2\n",
    "    c += 3\n",
    "    \n",
    "b = 1\n",
    "\n",
    "for i in range(10):\n",
    "    func()\n",
    "\n",
    "c = 2\n",
    "    \n",
    "print(a, b, c)"
   ]
  },
  {
   "cell_type": "markdown",
   "id": "6c7d86f4",
   "metadata": {},
   "source": [
    "#### 람다 표현식"
   ]
  },
  {
   "cell_type": "code",
   "execution_count": 70,
   "id": "85a4f3d9",
   "metadata": {
    "scrolled": true
   },
   "outputs": [
    {
     "name": "stdout",
     "output_type": "stream",
     "text": [
      "10\n",
      "<map object at 0x000001F80798B3A0>\n",
      "[7, 9, 11, 13, 15]\n",
      "<map object at 0x000001F80798B910>\n",
      "[7, 9, 11, 13, 15]\n"
     ]
    }
   ],
   "source": [
    "print((lambda a, b: a + b)(3, 7))\n",
    "\n",
    "li1 = [1, 2, 3, 4, 5]\n",
    "li2 = [6, 7, 8, 9, 10]\n",
    "result = map(lambda a, b: a + b, li1, li2)\n",
    "print(result)\n",
    "print(list(result))\n",
    "\n",
    "result = map((lambda a, b : a + b),li1, li2)\n",
    "print(result)\n",
    "print(list(result))\n",
    "\n",
    "\n",
    "# Error\n",
    "# # TypeError: map() must have at least two arguments.\n",
    "# result = map((lambda a, b : a + b)(li1, li2))\n",
    "\n",
    "# TypeError: <lambda>() missing 1 required positional argument: 'b'\n",
    "# result = map((lambda a, b : a + b), (li1, li2))"
   ]
  },
  {
   "cell_type": "markdown",
   "id": "8667cfbf",
   "metadata": {},
   "source": [
    "<hr>"
   ]
  },
  {
   "cell_type": "markdown",
   "id": "bf4d9bd2",
   "metadata": {},
   "source": [
    "## 11 : 실전에서 유용한 표준 라이브러리"
   ]
  },
  {
   "cell_type": "markdown",
   "id": "7e5b170c",
   "metadata": {},
   "source": [
    "#### 내장함수 \n",
    "기본 입출력 함수부터 정렬함수까지 기본적인 함수 제공<br>\n",
    "파이썬 프로그램 작성할 때 없어서는 안되는 필수적인 기능 포함<br><br>\n",
    "\n",
    "- itertools : <br>\n",
    "반복되는 형태의 데이터를 처리하기 위한 유용한 기능 제공<br>\n",
    "순열과 조합 라이브러리는 코딩테스트에서 자주 사용됨<br><br>\n",
    "\n",
    "- heapq : <br>\n",
    "힙(Heap) 자료 구조 제공<br>\n",
    "우선순위 큐 기능 구현하기 위해 사용<br><br>\n",
    "\n",
    "- bisect :<br>\n",
    "이진 탐색 기능 제공<br><br>\n",
    "\n",
    "- collections :<br>\n",
    "덱(deque), 카운터(Counter)등의 유용한 자료구조 포함<br><br>\n",
    "\n",
    "- math : <br>\n",
    "필수적인 수학적 기능 제공<br>\n",
    "펙토리얼, 제곱근, 최대공약수(GCD), 삼각함수 등의 함수<br>\n",
    "파이 등의 상수<br>"
   ]
  },
  {
   "cell_type": "markdown",
   "id": "7864bb7a",
   "metadata": {},
   "source": [
    "#### 자주 사용되는 내장 함수\n",
    "sum()<br>\n",
    "min(), max()<br>\n",
    "eval() : 문자열 수식을 계산한 결과 반환<br>\n",
    "sorted(data, key, reverse = True/False)<br>"
   ]
  },
  {
   "cell_type": "code",
   "execution_count": 75,
   "id": "bddfb077",
   "metadata": {},
   "outputs": [
    {
     "name": "stdout",
     "output_type": "stream",
     "text": [
      "56\n",
      "[('이순신', 75), ('아무개', 50), ('홍길동', 35)]\n"
     ]
    }
   ],
   "source": [
    "# eval()\n",
    "result = eval(\"(3 + 5) * 7\")\n",
    "print(result)\n",
    "\n",
    "# sorted() key, reverse(default = Flase)\n",
    "array = [(\"홍길동\", 35), (\"이순신\", 75), (\"아무개\", 50)]\n",
    "result = sorted(array, key = lambda x: x[1], reverse = True)\n",
    "print(result)"
   ]
  },
  {
   "cell_type": "markdown",
   "id": "4f797197",
   "metadata": {},
   "source": [
    "#### 순열과 조합\n",
    "- 순열 :<br> \n",
    "서로다른 n개에서 서로 다른 r개를 선택하여 일렬로 나열하는 것<br>\n",
    "일렬로 나열하기 때문에 순서를 고려함<br>\n",
    "순열에서 ABC, ACB, BAC, BCA, CAB, CBA는 모두 다른 것임\n",
    "$$_nP_r = n * (n-1) * (n-2) * ... * (n-r+1)$$\n",
    "<br>\n",
    "\n",
    "- 조합 :<br>\n",
    "서로 다른 n개에서 순서 상관없이 서로 다른 r개를 선택하는 것<br>\n",
    "$$_nC_r = \\frac{n * (n-1) * (n-2) * ... * (n-r+1)}{r!}$$"
   ]
  },
  {
   "cell_type": "code",
   "execution_count": 77,
   "id": "8c566d98",
   "metadata": {},
   "outputs": [
    {
     "name": "stdout",
     "output_type": "stream",
     "text": [
      "[('A', 'B', 'C'), ('A', 'C', 'B'), ('B', 'A', 'C'), ('B', 'C', 'A'), ('C', 'A', 'B'), ('C', 'B', 'A')]\n"
     ]
    }
   ],
   "source": [
    "# 순열\n",
    "\n",
    "from itertools import permutations\n",
    "# itertools : 이터레이터를 만드는 라이브러리\n",
    "# permutations : 순열\n",
    "\n",
    "data = [\"A\", \"B\", \"C\"]\n",
    "result = list(permutations(data, 3))\n",
    "# n : 데이터, r : 3\n",
    "\n",
    "print(result)"
   ]
  },
  {
   "cell_type": "code",
   "execution_count": 80,
   "id": "ab26a251",
   "metadata": {},
   "outputs": [
    {
     "name": "stdout",
     "output_type": "stream",
     "text": [
      "[('A', 'B'), ('A', 'C'), ('B', 'C')]\n"
     ]
    }
   ],
   "source": [
    "# 조합\n",
    "\n",
    "from itertools import combinations\n",
    "# combinations : 조합\n",
    "\n",
    "data = [\"A\", \"B\", \"C\"]\n",
    "result = list(combinations(data, 2))\n",
    "# 3C2\n",
    "\n",
    "print(result)"
   ]
  },
  {
   "cell_type": "markdown",
   "id": "1e6fea56",
   "metadata": {},
   "source": [
    "#### 중복 순열과 중복 조합\n",
    "- 중복 순열 : <br>\n",
    "중복 가능한 n개 중에서 r개를 선택하는 경우의 수<br>\n",
    "순서를 고려함\n",
    "$$_n{\\Pi}_r = n^r$$\n",
    "<br>\n",
    "\n",
    "- 중복 조합 :<br>\n",
    "중복 가능한 n개 중에서 r개를 선택하는 경우의 수<br>\n",
    "순서를 고려하지 않음\n",
    "$$_nH_r = {_{n+r-1}C{_r}}$$"
   ]
  },
  {
   "cell_type": "code",
   "execution_count": 81,
   "id": "5b809a5a",
   "metadata": {},
   "outputs": [
    {
     "name": "stdout",
     "output_type": "stream",
     "text": [
      "[('A', 'A'), ('A', 'B'), ('A', 'C'), ('B', 'A'), ('B', 'B'), ('B', 'C'), ('C', 'A'), ('C', 'B'), ('C', 'C')]\n"
     ]
    }
   ],
   "source": [
    "# 중복 순열\n",
    "\n",
    "from itertools import product\n",
    "\n",
    "data = [\"A\", \"B\", \"C\"]\n",
    "result = list(product(data, repeat = 2))\n",
    "# 중복을 허용하여 2개를 뽑는 모든 순열\n",
    "\n",
    "print(result)"
   ]
  },
  {
   "cell_type": "code",
   "execution_count": 83,
   "id": "9903c025",
   "metadata": {},
   "outputs": [
    {
     "name": "stdout",
     "output_type": "stream",
     "text": [
      "[('A', 'A'), ('A', 'B'), ('A', 'C'), ('B', 'B'), ('B', 'C'), ('C', 'C')]\n"
     ]
    }
   ],
   "source": [
    "# 중복 조합\n",
    "\n",
    "from itertools import combinations_with_replacement as cr\n",
    "# 너무 길어서 별명을 임의로 주었음\n",
    "\n",
    "data = [\"A\", \"B\", \"C\"]\n",
    "\n",
    "result = list(cr(data, 2))\n",
    "print(result)"
   ]
  },
  {
   "cell_type": "markdown",
   "id": "afeaa9a1",
   "metadata": {},
   "source": [
    "#### 최대 공약수, 최소 공배수\n",
    "최대공약수 : gcd()<br>\n",
    "최소공배수 함수는 따로 없음"
   ]
  },
  {
   "cell_type": "code",
   "execution_count": 85,
   "id": "b1165ae9",
   "metadata": {},
   "outputs": [
    {
     "name": "stdout",
     "output_type": "stream",
     "text": [
      "7\n",
      "42\n"
     ]
    }
   ],
   "source": [
    "# 최대공약수, 최소공배수\n",
    "\n",
    "import math\n",
    "\n",
    "# 최소공배수 구하는 함수\n",
    "def lcm(a, b):\n",
    "    return a * b // math.gcd(a, b)\n",
    "\n",
    "print(math.gcd(21, 14))\n",
    "print(lcm(21, 14))"
   ]
  },
  {
   "cell_type": "code",
   "execution_count": null,
   "id": "8ffb373c",
   "metadata": {},
   "outputs": [],
   "source": []
  }
 ],
 "metadata": {
  "kernelspec": {
   "display_name": "Python 3",
   "language": "python",
   "name": "python3"
  },
  "language_info": {
   "codemirror_mode": {
    "name": "ipython",
    "version": 3
   },
   "file_extension": ".py",
   "mimetype": "text/x-python",
   "name": "python",
   "nbconvert_exporter": "python",
   "pygments_lexer": "ipython3",
   "version": "3.8.8"
  }
 },
 "nbformat": 4,
 "nbformat_minor": 5
}
