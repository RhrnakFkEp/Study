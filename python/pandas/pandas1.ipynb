{
 "cells": [
  {
   "cell_type": "markdown",
   "id": "c69b5a1b",
   "metadata": {},
   "source": [
    "# pandas study\n",
    "2021-06-13<br>\n",
    "판다스 기초<br>\n",
    "시리즈, 데이터프레임"
   ]
  },
  {
   "cell_type": "code",
   "execution_count": 24,
   "id": "6f50c074",
   "metadata": {},
   "outputs": [],
   "source": [
    "# import\n",
    "\n",
    "import pandas as pd\n",
    "import numpy as np"
   ]
  },
  {
   "cell_type": "markdown",
   "id": "b479f0c7",
   "metadata": {},
   "source": [
    "### Series\n",
    "https://pandas.pydata.org/docs/reference/api/pandas.Series.html?highlight=series#pandas.Series"
   ]
  },
  {
   "cell_type": "code",
   "execution_count": 34,
   "id": "63f6ce71",
   "metadata": {},
   "outputs": [],
   "source": [
    "# pd.Series parameters\n",
    "\n",
    "?pd.Series\n",
    "\n",
    "# pd.Series(\n",
    "#     data=None,\n",
    "#     index=None,\n",
    "#     dtype=None,\n",
    "#     name=None,\n",
    "#     copy=False,\n",
    "#     fastpath=False,\n",
    "# )"
   ]
  },
  {
   "cell_type": "code",
   "execution_count": 91,
   "id": "75b55a03",
   "metadata": {},
   "outputs": [
    {
     "name": "stdout",
     "output_type": "stream",
     "text": [
      "a    0\n",
      "b    1\n",
      "c    2\n",
      "d    3\n",
      "e    4\n",
      "Name: 1D array, dtype: int32\n",
      "\n",
      "<class 'pandas.core.series.Series'>\n",
      "a    10\n",
      "b    20\n",
      "c    30\n",
      "dtype: int64\n"
     ]
    }
   ],
   "source": [
    "# Series 생성\n",
    "# list, dictionary, 1D array를 이용해 생성가능\n",
    "# 2D array부터는 생성이 불가능함\n",
    "\n",
    "# 1D aray\n",
    "sr = pd.Series(np.arange(0, 5, 1), \n",
    "               dtype = \"int32\",\n",
    "               name = \"1D array\",   # Series name\n",
    "               index = list(\"abcde\"))\n",
    "print(sr)\n",
    "print()\n",
    "\n",
    "\n",
    "# 2D array\n",
    "# ValueError: Data must be 1-dimensional\n",
    "# sr = pd.Series(np.arange(0, 10, 1).reshape(2, -1))\n",
    "\n",
    "\n",
    "# Dictionary\n",
    "sr = pd.Series({\"a\" : 10, \"b\" : 20, \"c\" : 30})\n",
    "print(type(sr))\n",
    "print(sr)"
   ]
  },
  {
   "cell_type": "code",
   "execution_count": 58,
   "id": "204774fa",
   "metadata": {},
   "outputs": [
    {
     "name": "stdout",
     "output_type": "stream",
     "text": [
      "copy true\n",
      "\n",
      "sr :\n",
      "a    10\n",
      "b    20\n",
      "c    30\n",
      "Name: cp_test, dtype: int64\n",
      "sr_dic :\n",
      " {'a': 10, 'b': 20, 'c': 30}\n",
      "----------\n",
      "sr_dic[\"a\"] * 10\n",
      "\n",
      "sr :\n",
      "a    10\n",
      "b    20\n",
      "c    30\n",
      "Name: cp_test, dtype: int64\n",
      "sr_dic : {'a': 100, 'b': 20, 'c': 30}\n",
      "----------\n",
      "sr[\"b\"] * 10\n",
      "\n",
      "sr : a     10\n",
      "b    200\n",
      "c     30\n",
      "Name: cp_test, dtype: int64\n",
      "sr_dic : {'a': 100, 'b': 20, 'c': 30}\n",
      "--------------------------------------------------\n",
      "copy False\n",
      "\n",
      "sr :\n",
      "a    10\n",
      "b    20\n",
      "c    30\n",
      "Name: cp_test, dtype: int64\n",
      "sr_dic :\n",
      " {'a': 10, 'b': 20, 'c': 30}\n",
      "----------\n",
      "sr_dic[\"a\"] * 10\n",
      "\n",
      "sr :\n",
      "a    10\n",
      "b    20\n",
      "c    30\n",
      "Name: cp_test, dtype: int64\n",
      "sr_dic : {'a': 100, 'b': 20, 'c': 30}\n",
      "----------\n",
      "sr[\"b\"] * 10\n",
      "\n",
      "sr :\n",
      "a     10\n",
      "b    200\n",
      "c     30\n",
      "Name: cp_test, dtype: int64\n",
      "sr_dic : {'a': 100, 'b': 20, 'c': 30}\n"
     ]
    }
   ],
   "source": [
    "# copy test\n",
    "\n",
    "# copy = True\n",
    "# copy = Ture일 때, 원본 데이터와 시리즈 데이터의 변화 비교\n",
    "print(\"copy true\")\n",
    "print()\n",
    "\n",
    "# 원본데이터 sr_dic, sr_dic을 시리즈 형태로 변화시킨 sr\n",
    "sr_dic = {\"a\" : 10, \"b\" : 20, \"c\" : 30}\n",
    "sr = pd.Series(sr_dic, name = \"cp_test\", copy = True)\n",
    "print(f\"sr :\\n{sr}\")\n",
    "print(\"sr_dic :\\n\", sr_dic)\n",
    "print(\"-\"*10)\n",
    "\n",
    "# sr_dic에 데이터의 변화가 발생할 때, sr의 변화\n",
    "print('sr_dic[\"a\"] * 10\\n')\n",
    "sr_dic[\"a\"] *= 10\n",
    "print(f\"sr :\\n{sr}\")\n",
    "print(\"sr_dic :\", sr_dic)\n",
    "print(\"-\"*10)\n",
    "# 변화 X\n",
    "\n",
    "# sr에 변화가 있을 때, sr_dic의 변화\n",
    "print(\"sr[\\\"b\\\"] * 10\\n\")\n",
    "sr[\"b\"] *= 10\n",
    "print(\"sr :\", sr)\n",
    "print(\"sr_dic :\", sr_dic)\n",
    "# 변화 X\n",
    "\n",
    "\n",
    "print(\"-\"*50)\n",
    "\n",
    "\n",
    "# copy = False\n",
    "# copy = False 일 때, 데이터의 변화 비교\n",
    "print(\"copy False\")\n",
    "print()\n",
    "\n",
    "# 딕셔너리, 시리즈 생성\n",
    "sr_dic = {\"a\" : 10, \"b\" : 20, \"c\" : 30}\n",
    "sr = pd.Series(sr_dic, name = \"cp_test\", copy = False)\n",
    "print(f\"sr :\\n{sr}\")\n",
    "print(\"sr_dic :\\n\", sr_dic)\n",
    "print(\"-\"*10)\n",
    "\n",
    "# sr_dic의 변화에 따른 sr의 변화\n",
    "print('sr_dic[\"a\"] * 10\\n')\n",
    "sr_dic[\"a\"] *= 10\n",
    "print(f\"sr :\\n{sr}\")\n",
    "print(\"sr_dic :\", sr_dic)\n",
    "print(\"-\"*10)\n",
    "# 변화 X\n",
    "\n",
    "# sr의 변화에 따른 sr_dic의 변화\n",
    "print(\"sr[\\\"b\\\"] * 10\\n\")\n",
    "sr[\"b\"] *= 10\n",
    "print(f\"sr :\\n{sr}\")\n",
    "print(\"sr_dic :\", sr_dic)\n",
    "# 변화 X\n",
    "\n",
    "\n",
    "### 결론\n",
    "# 예상으로는 from copy import copy에서 copy를 사용하는것과 같은 이유로 카피하는것이라고 생각했었음\n",
    "# 하지만 결과를 보니 카피 하는것과 하지 않는것에 뭔 차이있는건지는 모르겠음\n",
    "# 설명상으로는 데이터를 카피한다고 하는데\n",
    "# 카피 한거랑 안한거랑 데이터의 변화는 없는게 아닐까 싶음\n",
    "# 둘 다 원본에 변화가 없음"
   ]
  },
  {
   "cell_type": "code",
   "execution_count": 29,
   "id": "08e838b0",
   "metadata": {},
   "outputs": [
    {
     "name": "stdout",
     "output_type": "stream",
     "text": [
      "Index(['a', 'b', 'c'], dtype='object')\n",
      "[10 20 30]\n"
     ]
    }
   ],
   "source": [
    "# index, value 추출\n",
    "# index값과 value값만 추출\n",
    "\n",
    "print(sr.index)\n",
    "print(sr.values)"
   ]
  },
  {
   "cell_type": "code",
   "execution_count": 100,
   "id": "92355653",
   "metadata": {},
   "outputs": [
    {
     "name": "stdout",
     "output_type": "stream",
     "text": [
      "10\n",
      "10\n",
      "\n",
      "a    10\n",
      "b    20\n",
      "dtype: int64\n",
      "a    10\n",
      "b    20\n",
      "c    30\n",
      "dtype: int64\n",
      "\n",
      "30\n"
     ]
    }
   ],
   "source": [
    "# 원소 선택\n",
    "# 문자 인덱스, 숫자 인덱스 둘 다 접근 가능\n",
    "\n",
    "# 문자인덱스, 숫자 인덱스\n",
    "print(sr[0])\n",
    "print(sr[\"a\"])\n",
    "print()\n",
    "\n",
    "# 범위 지정\n",
    "print(sr[0:2])\n",
    "print(sr[\"a\":\"c\"])\n",
    "# 숫자 인덱스는 끝으로 지정한 인덱스 이전까지 출력하며\n",
    "# 문자 인덱스는 끝으로 지정한 인덱스까지 출력함\n",
    "print()\n",
    "\n",
    "# -1 인덱스\n",
    "print(sr[-1])"
   ]
  },
  {
   "cell_type": "code",
   "execution_count": 103,
   "id": "5a4e1ea1",
   "metadata": {},
   "outputs": [],
   "source": [
    "# Series attribute\n",
    "\n",
    "# 위쪽 URL 참조\n",
    "# 사용할 수 있는 attribute, method 등이 적혀있음"
   ]
  },
  {
   "cell_type": "markdown",
   "id": "8fa9180f",
   "metadata": {},
   "source": [
    "### DataFrame\n",
    "https://pandas.pydata.org/docs/reference/api/pandas.DataFrame.html?highlight=dataframe#pandas.DataFrame"
   ]
  },
  {
   "cell_type": "code",
   "execution_count": 92,
   "id": "fecfb192",
   "metadata": {},
   "outputs": [],
   "source": [
    "# pd.DataFrame parameters\n",
    "\n",
    "?pd.DataFrame\n",
    "\n",
    "# pd.DataFrame(\n",
    "#     data=None,\n",
    "#     index: 'Optional[Axes]' = None,\n",
    "#     columns: 'Optional[Axes]' = None,\n",
    "#     dtype: 'Optional[Dtype]' = None,\n",
    "#     copy: 'bool' = False,\n",
    "# )"
   ]
  },
  {
   "cell_type": "code",
   "execution_count": 98,
   "id": "9ecdd252",
   "metadata": {},
   "outputs": [
    {
     "name": "stdout",
     "output_type": "stream",
     "text": [
      "    v   w   x   y   z\n",
      "a   0   1   2   3   4\n",
      "b   5   6   7   8   9\n",
      "c  10  11  12  13  14\n",
      "<class 'pandas.core.frame.DataFrame'>\n"
     ]
    }
   ],
   "source": [
    "# 데이터프레임 생성\n",
    "\n",
    "df = pd.DataFrame(np.arange(0, 15, 1).reshape(3, -1), \n",
    "             index = list(\"abc\"), columns = list(\"vwxyz\"), \n",
    "             dtype = \"object\")\n",
    "# DataFrame은 name 지정 불가\n",
    "\n",
    "print(df)\n",
    "print(type(df))"
   ]
  },
  {
   "cell_type": "code",
   "execution_count": 99,
   "id": "80226173",
   "metadata": {},
   "outputs": [
    {
     "name": "stdout",
     "output_type": "stream",
     "text": [
      "Index(['a', 'b', 'c'], dtype='object')\n",
      "[[0 1 2 3 4]\n",
      " [5 6 7 8 9]\n",
      " [10 11 12 13 14]]\n"
     ]
    }
   ],
   "source": [
    "# 인덱스, 값(value) 추출\n",
    "# DataFrame attribute index, values\n",
    "\n",
    "print(df.index)\n",
    "print(df.values)"
   ]
  },
  {
   "cell_type": "code",
   "execution_count": null,
   "id": "20619cb5",
   "metadata": {},
   "outputs": [],
   "source": [
    "# 행/열 인덱스 이름 변경\n",
    "\n",
    "df.rename()"
   ]
  }
 ],
 "metadata": {
  "kernelspec": {
   "display_name": "Python 3",
   "language": "python",
   "name": "python3"
  },
  "language_info": {
   "codemirror_mode": {
    "name": "ipython",
    "version": 3
   },
   "file_extension": ".py",
   "mimetype": "text/x-python",
   "name": "python",
   "nbconvert_exporter": "python",
   "pygments_lexer": "ipython3",
   "version": "3.8.8"
  }
 },
 "nbformat": 4,
 "nbformat_minor": 5
}
